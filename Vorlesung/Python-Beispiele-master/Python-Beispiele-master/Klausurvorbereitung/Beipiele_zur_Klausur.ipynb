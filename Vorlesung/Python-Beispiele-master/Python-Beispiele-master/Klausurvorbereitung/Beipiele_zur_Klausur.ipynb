{
 "cells": [
  {
   "cell_type": "markdown",
   "metadata": {},
   "source": [
    "# Beispielfragen Klausur Informatik\n",
    "\n",
    "### Aufgabe 1\n",
    "Was legt ein Datentyp fest? Erläutern Sie den Unterschied zwischen den Datentypen float und double.\n"
   ]
  },
  {
   "cell_type": "code",
   "execution_count": null,
   "metadata": {},
   "outputs": [],
   "source": []
  },
  {
   "cell_type": "markdown",
   "metadata": {},
   "source": [
    "### Aufgabe 2\n",
    "Welche Fehler im folgenden Code findet der Compiler? Welche Fehler treten als Laufzeitfehler auf?<br> Wie müsste der korrekte Quellcode lauten?"
   ]
  },
  {
   "cell_type": "code",
   "execution_count": null,
   "metadata": {},
   "outputs": [],
   "source": [
    "print (berechneSumme(2.6, 5.4))\n",
    "\n",
    "def berechneSumme(summand1, summand2)\n",
    "     summand1 + summand2 = summe\n",
    "    \n",
    "    \n",
    "    \n",
    "    \n",
    "    \n",
    "    "
   ]
  },
  {
   "cell_type": "markdown",
   "metadata": {},
   "source": [
    "### Aufgabe 3\n",
    "Was verstehen Sie unter dem Begriff „Algorithmus“? Benennen Sie die vier grundlegenden Eigenschaften, die einen Algorithmus auszeichnen."
   ]
  },
  {
   "cell_type": "code",
   "execution_count": null,
   "metadata": {},
   "outputs": [],
   "source": []
  },
  {
   "cell_type": "markdown",
   "metadata": {},
   "source": [
    "### Aufgabe 4\n",
    "Wie viel Informationen lassen sich mit 7 Bit darstellen?"
   ]
  },
  {
   "cell_type": "code",
   "execution_count": null,
   "metadata": {},
   "outputs": [],
   "source": []
  },
  {
   "cell_type": "markdown",
   "metadata": {},
   "source": [
    "### Aufgabe 5\n",
    "Skizzieren Sie den Von-Neumann-<b>Zyklus</b>!"
   ]
  },
  {
   "cell_type": "markdown",
   "metadata": {},
   "source": [
    "<br> <br><br> <br><br> <br><br> <br><br> <br><br> <br><br> <br><br> <br>"
   ]
  },
  {
   "cell_type": "markdown",
   "metadata": {},
   "source": [
    "### Aufgabe 6\n",
    "Warum ist die Bedingung (ende != true) umständlich? Wie lautet eine Kurzversion der gleichen Bedingung?"
   ]
  },
  {
   "cell_type": "code",
   "execution_count": null,
   "metadata": {},
   "outputs": [],
   "source": []
  },
  {
   "cell_type": "markdown",
   "metadata": {},
   "source": [
    "### Aufgabe 7\n",
    "Entwickeln Sie einen Programmablaufplan für folgendes Problem:<br>\n",
    "Es sollen für einen bestimmten Zeitraum die Kontoführungsgebühren bei einem Geldinstitut nach folgenden Maßgaben ermittelt werden:\n",
    "<TABLE BORDER=\"0\" ALIGN=Left>\n",
    "    <TR>\n",
    "        <TD>0 < Anzahl <= 5</TD><TD  WIDTH=\"270\">Die ersten 5 Buchungen sind gebührenfrei</TD>\n",
    "    </TR>\n",
    "    <TR>\n",
    "        <TD>5 < Anzahl <= 10</TD><TD  WIDTH=\"270\">Gebühr je Buchung: 0,40 €</TD>\n",
    "    </TR>\n",
    "    <TR>\n",
    "        <TD>10 < Anzahl <= 20</TD><TD  WIDTH=\"270\">Gebühr je Buchung: 0,20 €</TD>\n",
    "    </TR>\n",
    "    <TR>\n",
    "        <TD>20 < Anzahl <= 1000</TD><TD  WIDTH=\"270\">Gebühr je Buchung: 0,10 €</TD>\n",
    "    </TR>\n",
    "    <TR>\n",
    "        <TD>1000 < Anzahl</TD><TD  WIDTH=\"270\">Gebühr je Buchung: 0,05 €</TD>\n",
    "    </TR>\n",
    "</TABLE>"
   ]
  },
  {
   "cell_type": "markdown",
   "metadata": {},
   "source": [
    "<br> <br><br> <br><br> <br><br> <br><br> <br><br> <br><br> <br><br> <br>"
   ]
  },
  {
   "cell_type": "markdown",
   "metadata": {},
   "source": [
    "### Aufgabe 8\n",
    "Rechnen Sie folgende Zahlen um:\n",
    "\n",
    "<TABLE BORDER=\"0\" ALIGN=Left>\n",
    "    <TR>\n",
    "        <TD>2015dez</TD>\n",
    "        <TD>=</TD>\n",
    "        <TD WIDTH=\"270\">bin</TD>\n",
    "    </TR>\n",
    "    <TR>\n",
    "        <TD>F5D4hex</TD><TD\">=</TD><TD WIDTH=\"270\">bin</TD>\n",
    "    </TR>\n",
    "    <TR>\n",
    "            <TD>10101101bin</TD><TD>=</TD><TD  WIDTH=\"270\">hex</TD><TD>=</TD><TD WIDTH=\"270\">dez</TD>\n",
    "    </TR>\n",
    "</TABLE>\n",
    "\n",
    "  \t"
   ]
  },
  {
   "cell_type": "markdown",
   "metadata": {},
   "source": [
    "### Aufgabe 9\n",
    "Erstellen Sie ein Programm, das mit Hilfe einer for‐Schleife alle durch 5 und 9 teilbaren Zahlen zwischen zwei zuvor über die Tastatur eingegebenen Grenzen im Notebook ausgibt."
   ]
  },
  {
   "cell_type": "code",
   "execution_count": null,
   "metadata": {},
   "outputs": [],
   "source": []
  },
  {
   "cell_type": "markdown",
   "metadata": {},
   "source": [
    "### Aufgabe 10\n",
    "Programmieren Sie das Spiel „Zahlenraten“: Der Computer generiert eine Zufallszahl zwischen\n",
    "1 und 100, die der Spieler erraten muss. Es wird bei jedem Durchgang mitgeteilt, ob die\n",
    "eingegebene Zahl zu groß oder zu klein war."
   ]
  },
  {
   "cell_type": "code",
   "execution_count": null,
   "metadata": {},
   "outputs": [],
   "source": []
  },
  {
   "cell_type": "markdown",
   "metadata": {},
   "source": [
    "### Aufgabe 11\n",
    "Herr Maier möchte in seinem Garten ein Salatbeet anlegen. Um den Salat gegen Schnecken zu schützen möchte er eine Schneckenschutzkante einsetzen. Da diese Kante allerdings nicht ganz billig ist, sucht Herr Maier nach dem rechteckigen Feld, welches Ihm die größte Fläche bei kleinstem Umfang des Beetes generiert. Er möchte möglichst genau 75,5 m² von seinem Garten für das Salatbeet abteilen. Schreiben Sie für Herrn Maier ein Optimierungsprogramm, welches Ihm diese Aufgabe löst.\n",
    "Dazu implementieren Sie bitte 2 Funktionen, die eine berechnet den Flächeninhalt und die andere den Umfang. Beide Funktionen sollen das Berechnungsergebnis als reelle Zahl zurückliefern und die aktuellen Kantenlängen als reelle Zahlen übergeben bekommen. Das Problem soll in diskreten Schritten von 0,01 m angenähert werden. Geben Sie als Ergebnis die beiden Kantenlängen, die Fläche und den Umfang im Notebook aus.\n"
   ]
  },
  {
   "cell_type": "code",
   "execution_count": null,
   "metadata": {},
   "outputs": [],
   "source": []
  }
 ],
 "metadata": {
  "kernelspec": {
   "display_name": "Python 3",
   "language": "python",
   "name": "python3"
  },
  "language_info": {
   "codemirror_mode": {
    "name": "ipython",
    "version": 3
   },
   "file_extension": ".py",
   "mimetype": "text/x-python",
   "name": "python",
   "nbconvert_exporter": "python",
   "pygments_lexer": "ipython3",
   "version": "3.7.3"
  }
 },
 "nbformat": 4,
 "nbformat_minor": 2
}
