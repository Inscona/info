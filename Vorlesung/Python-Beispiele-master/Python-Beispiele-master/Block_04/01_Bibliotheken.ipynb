{
 "cells": [
  {
   "cell_type": "markdown",
   "metadata": {},
   "source": [
    "# Nutzung vom Standardbibliotheken\n",
    "## math - Mathematik"
   ]
  },
  {
   "cell_type": "markdown",
   "metadata": {},
   "source": [
    "Mathematische Standardfunktionen stehen nach dem importieren von 'math' zur Verfügung:\n",
    "https://docs.python.org/3/library/math.html"
   ]
  },
  {
   "cell_type": "code",
   "execution_count": null,
   "metadata": {},
   "outputs": [],
   "source": [
    "import math\n",
    "\n",
    "z = int(input(\"Bitte geben Sie eine Zahl ein, aus der die Wurzel gezogen werden soll:\"))\n",
    "ergebnis = math.sqrt(z)\n",
    "print (ergebnis)\n",
    "\n",
    "#Konstanten nutzen, Beispiel Pi zur Umfangsberechnung\n",
    "radius = float(input(\"Bitte geben Sie einen Radius in cm ein:\"))\n",
    "print (\"Der Umfang lautet:\", 2*math.pi*radius, \"cm\")\n"
   ]
  },
  {
   "cell_type": "markdown",
   "metadata": {},
   "source": [
    "## random - Zufallszahlen\n",
    "Es ist immer wieder notwendig einen zufällige Zahl oder einen zufällige Verteilung von Zahlen zu erzeugen.  Diese können für Tests, Spiele oder Änliches eingesetzt werden."
   ]
  },
  {
   "cell_type": "code",
   "execution_count": null,
   "metadata": {},
   "outputs": [],
   "source": [
    "from random import *\n",
    " \n",
    "x = randint(1, 100)    # Zufallszahl zwischen 1 und 100 auswählen\n",
    "print (x)"
   ]
  },
  {
   "cell_type": "markdown",
   "metadata": {},
   "source": [
    "## time - Zeit und Datum\n",
    "Die Funktion time() liefert die Sekunden seit dem 01.01.1970, 00:00:00 Uhr"
   ]
  },
  {
   "cell_type": "code",
   "execution_count": null,
   "metadata": {},
   "outputs": [],
   "source": [
    "import time\n",
    "seconds = time.time()\n",
    "print(\"Sekunden seit 01.01.1970, 00:00:00 Uhr =\", seconds)\t"
   ]
  },
  {
   "cell_type": "markdown",
   "metadata": {},
   "source": [
    "Zur Umrechnung in ein sinnvolles Datum und Uhrzeit steht die Funktion ctime() zur Verfügung:"
   ]
  },
  {
   "cell_type": "code",
   "execution_count": null,
   "metadata": {},
   "outputs": [],
   "source": [
    "local_time = time.ctime(seconds)\n",
    "print(\"Aktuelle Zeit:\", local_time)"
   ]
  },
  {
   "cell_type": "markdown",
   "metadata": {},
   "source": [
    "Auch so kann man die aktuelle Zeit als String bekommen:"
   ]
  },
  {
   "cell_type": "code",
   "execution_count": null,
   "metadata": {},
   "outputs": [],
   "source": [
    "local_time = time.strftime(\"%a, %d %b %Y %H:%M:%S\", time.localtime()) \n",
    "print(\"Aktuelle Zeit:\", local_time)"
   ]
  },
  {
   "cell_type": "markdown",
   "metadata": {},
   "source": [
    "Auch Verzögerungen im Programmablauf werden über dieses Modul mit der Funktion sleep() gesteuert:"
   ]
  },
  {
   "cell_type": "code",
   "execution_count": null,
   "metadata": {},
   "outputs": [],
   "source": [
    "print(\"Das erscheint sofort.\")\n",
    "time.sleep(2.5)\n",
    "print(\"Dieser Druck dauert 2.5 Sekunden.\")"
   ]
  },
  {
   "cell_type": "markdown",
   "metadata": {},
   "source": [
    "## matplotlib - Eine externe Bibliothek zur Erzeugung von Diagrammen"
   ]
  },
  {
   "cell_type": "code",
   "execution_count": null,
   "metadata": {},
   "outputs": [],
   "source": [
    "import matplotlib.pyplot as plt  #\n",
    "\n",
    "plt.figure(num=1, figsize=[10.0,4.8]) #Größe des Diagrams in inches \n",
    "\n",
    "plt.plot(1, 4, 'r+')   # Zahlenpaar x=1, y=4 mit rotem Plus plotten\n",
    "plt.plot(2, 2, 'bo')   # Zahlenpaar x=2, y=2 mit blauem Kreis plotten\n",
    "plt.plot(3, 7, 'g*')   # Zahlenpaar x=3, y=7 mit grünem Stern plotten\n",
    "plt.plot(4, 5, 'yx')   # Zahlenpaar x=4, y=5 mit gelbem x plotten\n",
    "plt.xlabel('some numbers')  #Beschriftung x-Achse\n",
    "plt.ylabel('other numbers') #Beschriftung y-Achse\n",
    "plt.show()                  #Plot anzeigen"
   ]
  },
  {
   "cell_type": "markdown",
   "metadata": {},
   "source": [
    "## Aufgabe 4.1\n",
    "Erzeugen Sie zehn Zufallszahlen zwischen 50 und 90 und plotten Sie diese über die aktuelle Uhrzeit. Warten Sie zwischen der Erzeugung jeweils 5 Sekunden."
   ]
  },
  {
   "cell_type": "code",
   "execution_count": null,
   "metadata": {},
   "outputs": [],
   "source": []
  }
 ],
 "metadata": {
  "kernelspec": {
   "display_name": "Python 3",
   "language": "python",
   "name": "python3"
  },
  "language_info": {
   "codemirror_mode": {
    "name": "ipython",
    "version": 3
   },
   "file_extension": ".py",
   "mimetype": "text/x-python",
   "name": "python",
   "nbconvert_exporter": "python",
   "pygments_lexer": "ipython3",
   "version": "3.7.3"
  }
 },
 "nbformat": 4,
 "nbformat_minor": 2
}
