{
 "cells": [
  {
   "cell_type": "markdown",
   "metadata": {},
   "source": [
    "# Klausur Informatik I - Sommersemester 2021\n",
    "\n",
    "### Hinweise zur Bearbeitung\n",
    "Bitte bearbeiten Sie die Aufgabenstellungen direkt in diesem Jupyter Notebook. Bennenen Sie Ihr Nootebook nach dem folgenden Schema (<b>Nachname_Vorname_Matrikelnummer</b>) und reichen Sie Ihr Ergebnis am Ende der Klausur per Upload über StudIP in den Abgabeordner dieser Veranstaltung <a href=\"https://studip.ostfalia.de/dispatch.php/course/files/index/4a6f52d83b8a49dcd3dc74e2eb595fb6?cid=9743979c0df62514be4061ceb86b50e8\">Stud.IP</a> ein. Tragen Sie die Lösungen jeweils in die dafür vorgesehenen Zelle unterhalb der Aufgabe ein.\n",
    "\n",
    "### Zugelassene Hilfsmittel\n",
    "Sie dürfen alle zur Verfügung stehenden Hilfsmittel (Taschenrechner, Vorlesungsunterlagen, eigene Beispielprogramme, Internetsuchmaschinen) für das Lösen dieser Aufgabenstellungen nutzen. Ein Austausch mit anderen Personen ist nicht zulässig.\n",
    "\n",
    "### Eigenständigkeitserklärung\n",
    "Mit dem Upload dieses Jupyter Notebooks versicherm Sie an Eides statt, dass Sie die unter der jeweiligen Ostfalia-ID eingeloggte Person sind, also nicht die Login-Daten einer anderen Person benutzen, die Prüfungsfragen eigenständig bearbeitet haben und keine anderen als die zugelassenen Hilfsmittel verwendet haben. Ebenso versichern Sie, dass Sie sich allein im Raum befunden und für den Zeitraum der Prüfung keinen Kontakt zu anderen Personen aufgenommen haben.\n",
    "\n",
    "### Bearbeitungszeit: 60 Minuten\n",
    "Verarbeitungs- und Übermittlungszeit: 15 Minuten\n",
    "______________________________________________________________________________________________________________________________________________"
   ]
  },
  {
   "cell_type": "markdown",
   "metadata": {},
   "source": [
    "### Aufgabe 1 (2 Punkte)\n",
    "Woran sieht man, dass der Code in einer bestimmten Zelle des Jupyter Notebooks aktuell ausgeführt wird?\n"
   ]
  },
  {
   "cell_type": "markdown",
   "metadata": {},
   "source": [
    "#### Antwort zu Aufgabe 1:\n",
    "<br /> \n",
    "<br /> \n",
    "<br /> \n",
    "<br /> \n",
    "<br /> \n",
    "<br /> "
   ]
  },
  {
   "cell_type": "markdown",
   "metadata": {},
   "source": [
    "### Aufgabe 2 (2 Punkte)\n",
    "Welchen Ganzzahlenbereich können Sie mithilfe von 10 Bit darstellen? Geben Sie diesen Bereich in Intervallschreibweise an."
   ]
  },
  {
   "cell_type": "markdown",
   "metadata": {},
   "source": [
    "#### Antwort zu Aufgabe 2:\n",
    "<br /> \n",
    "<br /> \n",
    "<br /> \n",
    "<br /> \n",
    "<br /> \n",
    "<br /> \n",
    "    \n",
    "    \n",
    "    \n",
    "    "
   ]
  },
  {
   "cell_type": "markdown",
   "metadata": {},
   "source": [
    "### Aufgabe 3 (2 Punkte)\n",
    "Welche Eigenschaft hat ein Algorithmus nicht, wenn Sie den Algorithmus mit denselben Eingabedaten zweimal ausführen und unterschiedliche Ergebnisse erhalten? Wie bewerten Sie diesen Zustand, wenn Ihr Algorithmus Zufallszahlen ausgeben soll?"
   ]
  },
  {
   "cell_type": "markdown",
   "metadata": {},
   "source": [
    "#### Antwort zu Aufgabe 3:\n",
    "<br /> \n",
    "<br /> \n",
    "<br /> \n",
    "<br /> \n",
    "<br /> \n",
    "<br /> \n",
    "\n",
    "\n"
   ]
  },
  {
   "cell_type": "markdown",
   "metadata": {},
   "source": [
    "### Aufgabe 4 (2 Punkte)\n",
    "Welcher Unterschied kann zwischen Interpretersprachen und Compilersprachen hinsichtlich der Geschwindigkeit der Ausführung von Programmen auftreten? Wodurch kann dieser Unterschied entstehen?"
   ]
  },
  {
   "cell_type": "markdown",
   "metadata": {},
   "source": [
    "#### Antwort zu Aufgabe 4:\n",
    "<br /> \n",
    "<br /> \n",
    "<br /> \n",
    "<br /> \n",
    "<br /> \n",
    "<br /> \n",
    "\n",
    "\n"
   ]
  },
  {
   "cell_type": "markdown",
   "metadata": {},
   "source": [
    "### Aufgabe 5 (2 Punkte)\n",
    "Ein Programm zur Berechnung von Produktionskennzahlen stürzt während der Benutzung ab. Bei intensiver Suche stellen Sie fest, dass durch einen Messwertausfall eine Division durch Null erfolgt ist. Um welche Art von Fehler handelt es sich dabei? Was hätte der Programmierer in seinem Quellcode tun können, um diesen Fehler zu vermeiden?"
   ]
  },
  {
   "cell_type": "markdown",
   "metadata": {},
   "source": [
    "#### Antwort zu Aufgabe 5:<br /> \n",
    "<br /> \n",
    "<br /> \n",
    "<br /> \n",
    "<br /> \n",
    "<br /> \n"
   ]
  },
  {
   "cell_type": "markdown",
   "metadata": {},
   "source": [
    "### Aufgabe 6 (3 Punkte)\n",
    "Gegeben ist der folgende Quellcode. Realisieren Sie die gleiche Funktionalität mithilfe einer for-Schleife.\n"
   ]
  },
  {
   "cell_type": "code",
   "execution_count": null,
   "metadata": {},
   "outputs": [],
   "source": [
    "zähler = 50\n",
    "while(zähler>0):\n",
    "    print(zähler)\n",
    "    zähler-=5\n",
    "    \n",
    "# Hier ist Platz für Ihre Lösung:\n",
    "\n",
    "\n",
    "\n",
    "\n",
    "\n"
   ]
  },
  {
   "cell_type": "markdown",
   "metadata": {},
   "source": [
    "### Aufgabe 7 (7 Punkte)\n",
    "Die unten aufgeführte Liste enhält einige Umlaute (ä, ö, ü). Schreiben Sie eine Funktion, die diese Umlaute in der Liste wie folgt umwandelt.<br /> \n",
    "ä = ae<br /> \n",
    "ü = ue<br /> \n",
    "ö = oe<br /> \n",
    "\n",
    "Rufen Sie diese Funktion im Anschluss auf. Kehren Sie danach die Reihenfolge der Elemente in der Liste um und geben Sie den Inhalt der Liste auf dem Bildschirm aus.\n"
   ]
  },
  {
   "cell_type": "code",
   "execution_count": null,
   "metadata": {},
   "outputs": [],
   "source": [
    "#Lösung zu Aufgabe 7:\n",
    "\n",
    "liste=[\"Fähre\", \"Tür\", \"Gehölz\"]\n",
    "\n",
    "\n"
   ]
  },
  {
   "cell_type": "markdown",
   "metadata": {},
   "source": [
    "### Aufgabe 8 (17 Punkte)\n",
    "Sie überlegen sich ein E-Auto zu kaufen und möchten vorher die mögliche Einsparung im Vergleich zu Ihrem aktuellen Fahrzeug berechen. Sie wissen nicht genau, wie viele Kilometer Sie im Jahr fahren werden und  trauen den Herstellerangaben zum Verbrauch des E-Fahrzeugs nicht. Daher haben Sie sich entschieden, ein Prgramm zu schreiben, welches Ihnen die Ersparnis in 1000er Schritten von 10.000 km/Jahr bis 30.000 km/Jahr bei unterschiedlichen Verbräuchen des E-Autos auf dem Bildschirm ausgibt. Die Verbräuche variieren Sie dabei von 10kWh/100km bis 20kWh/100km in Schritten von je 1kWh/100 km.<br /> \n",
    "Als Vergleichswert für die Kraftstoffkosten Ihres aktuellen Fahzeugs nehmen Sie einen Verbrauch von 8,2 l/100km und einen Bezinpreis von 1,56 € je Liter an.<br /> \n",
    "Als Kosten für eine kWh setzen Sie den Betrag von 0,29 € an.\n",
    "a) Lösen Sie die oben beschriebene Aufgabestellung. Achten Sie dabei auf eine angemessene Formatierung der Bildschirmausgabe, damit Sie gut nachvollziehen können wie groß die Einsparung unter bestimmten Bedingungen ist.\n",
    "\n",
    "b) Erweitern Sie Ihr Programm so, dass für jeden Verbrauchswert zwischen 10kWh/100km und 20kWh/100km bestimmt wird, nach wievielen Kilometern sich der Kaufpreis des E-Autos von 25.000 € armotisiert hat. \n"
   ]
  },
  {
   "cell_type": "code",
   "execution_count": null,
   "metadata": {},
   "outputs": [],
   "source": [
    "# Lösung zu Aufgabe 8:\n",
    "\n",
    "\n",
    "\n",
    "\n"
   ]
  },
  {
   "cell_type": "markdown",
   "metadata": {},
   "source": [
    "### Aufgabe 9: (8 Punkte)\n",
    "Das Antiquitätengeschaft Sammlerglück kauft Kunden Antiquitäten ab. Dabei wird direkt vor Ort ein Schätzwert ermittelt. Da ein Kunde oft mehrere Antiquitäten anbietet, wird ein Programm erstellt, das standardisierte Abschläge der geschätzten Einzelwerte zusammenfaßt um einen adäquaten Gesamteinkaufspreis für alle Antiquitäten pro Kunde ausgeben zu können. \n",
    "Der Ablauf stellt sich folgendermaßen dar:<br /> \n",
    "- Zuerst soll das Alter der Antiquität eingegeben werden.<br /> \n",
    "- Dann soll die Höhe des Schätzwertes je Antiquität eingegeben werden.<br /> \n",
    "- Ist eine Antiquität älter als 50 Jahre gibt es 10% Abschlag.<br /> \n",
    "- Ist eine Antiquität älter als 25 Jahre gibt es 15% Abschlag.<br /> \n",
    "- Bis 25 Jahre gibt es 30% Abschlag auf den Schätzwert.<br /> \n",
    "Dem Kunden wird nach der Berechnung der Einkaufspreis genannt.\n",
    "- Ist der Kunde nicht einverstanden wird der Preis mit 0 festgesetzt und der Kauf kommt nicht zustande.<br /> \n",
    "Im Anschluss wird der Kunde gefragt ob er noch weitere Antiquitäten anzubieten hat.\n",
    "Am Ende  werden alle Einkaufspreise zusammengezählt  und als Gesamteinkaufspreis ausgegeben.\n",
    "\n",
    "Entwickeln Sie einen Programmablaufplan für dieses Programm.\n"
   ]
  },
  {
   "cell_type": "markdown",
   "metadata": {},
   "source": [
    "#### Lösung zu Aufgabe 9:\n",
    "<br /> \n",
    "<br /> \n",
    "<br /> \n",
    "<br /> \n",
    "<br /> \n",
    "<br /> \n",
    "<br /> \n",
    "\n",
    "\n"
   ]
  },
  {
   "cell_type": "markdown",
   "metadata": {},
   "source": [
    "### Aufgabe 10: (15 Punkte)\n",
    "Gegeben ist das folgende Tupel a. Schreiben Sie ein Programm, welches alle ganzzahlig durch 7 teilbaren Zahlen dieses Tupels auf dem Bildschirm ausgibt. Erweitern Sie Ihr Programm danach so, dass alle im Tupel enthaltenen Primzahlen bestimmt werden und nur die Summe dieser Primzahlen auf dem Bildschirm ausgegeben wird.\n"
   ]
  },
  {
   "cell_type": "code",
   "execution_count": 5,
   "metadata": {},
   "outputs": [],
   "source": [
    "#Lösung zu Aufgabe 10:\n",
    "a = (147, 253, 193, 29, 406, 805, 199, 419, 157, 623)\n",
    "\n",
    "\n"
   ]
  }
 ],
 "metadata": {
  "kernelspec": {
   "display_name": "Python 3 (ipykernel)",
   "language": "python",
   "name": "python3"
  },
  "language_info": {
   "codemirror_mode": {
    "name": "ipython",
    "version": 3
   },
   "file_extension": ".py",
   "mimetype": "text/x-python",
   "name": "python",
   "nbconvert_exporter": "python",
   "pygments_lexer": "ipython3",
   "version": "3.9.7"
  }
 },
 "nbformat": 4,
 "nbformat_minor": 4
}
